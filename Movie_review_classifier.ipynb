{
 "cells": [
  {
   "cell_type": "markdown",
   "metadata": {},
   "source": [
    "# Movie Review Classifier:\n"
   ]
  },
  {
   "cell_type": "code",
   "execution_count": 1,
   "metadata": {},
   "outputs": [],
   "source": [
    "import numpy as np\n",
    "import pandas as pd"
   ]
  },
  {
   "cell_type": "code",
   "execution_count": 2,
   "metadata": {},
   "outputs": [],
   "source": [
    "df=pd.read_csv(r\"C:\\Users\\HP\\Desktop\\projects\\imdb_movie_review_dataset\\IMDB Dataset.csv\")"
   ]
  },
  {
   "cell_type": "code",
   "execution_count": 3,
   "metadata": {},
   "outputs": [
    {
     "data": {
      "text/plain": [
       "str"
      ]
     },
     "execution_count": 3,
     "metadata": {},
     "output_type": "execute_result"
    }
   ],
   "source": [
    "type(df[\"review\"][0])"
   ]
  },
  {
   "cell_type": "code",
   "execution_count": 4,
   "metadata": {},
   "outputs": [],
   "source": [
    "import nltk"
   ]
  },
  {
   "cell_type": "code",
   "execution_count": 5,
   "metadata": {},
   "outputs": [],
   "source": [
    "from nltk.tokenize import regexp_tokenize,RegexpTokenizer\n",
    "from nltk.corpus import stopwords\n",
    "from nltk.stem.porter import PorterStemmer\n",
    "from tqdm import tqdm\n",
    "from keras.optimizers import RMSprop\n",
    "from sklearn.preprocessing import LabelEncoder\n",
    "from keras.layers import Dense, Embedding, LSTM, SpatialDropout1D ,Activation,Dropout\n",
    "from keras.models import Sequential\n",
    "from keras.preprocessing.text import Tokenizer\n",
    "from keras.preprocessing.sequence import pad_sequences\n",
    "from sklearn.model_selection import train_test_split\n",
    "from keras.utils.np_utils import to_categorical\n",
    "from keras.callbacks import EarlyStopping"
   ]
  },
  {
   "cell_type": "code",
   "execution_count": 6,
   "metadata": {},
   "outputs": [],
   "source": [
    "tokenizer= RegexpTokenizer('[a-z]+')\n",
    "ps=PorterStemmer()\n",
    "s_words=set(stopwords.words(\"english\"))\n"
   ]
  },
  {
   "cell_type": "code",
   "execution_count": 38,
   "metadata": {},
   "outputs": [],
   "source": [
    "s_words={ps.stem(s) for s in s_words}\n",
    "def Clean_review(text):\n",
    "    text=text.lower()\n",
    "    #tokenizer\n",
    "    text= tokenizer.tokenize(text)\n",
    "    \n",
    "    text=[ps.stem(x) for x in text]\n",
    "    text=[x for x in text if x not in s_words or x==\"not\"]\n",
    "    \n",
    "    return(\" \".join(text))"
   ]
  },
  {
   "cell_type": "code",
   "execution_count": 39,
   "metadata": {},
   "outputs": [
    {
     "data": {
      "text/plain": [
       "'typ stori ti say ti frro rsdd grr dfdf hhjd'"
      ]
     },
     "execution_count": 39,
     "metadata": {},
     "output_type": "execute_result"
    }
   ],
   "source": [
    "Clean_review(\"the typ1_ /stori ti-say 🏫 and _ti@frro![rsdd grr dfdf hhjd \")"
   ]
  },
  {
   "cell_type": "markdown",
   "metadata": {},
   "source": [
    "# Preparing data"
   ]
  },
  {
   "cell_type": "code",
   "execution_count": 40,
   "metadata": {},
   "outputs": [],
   "source": [
    "from sklearn.model_selection import train_test_split\n",
    "\n",
    "X=df[\"review\"].copy()\n",
    "Y=df[\"sentiment\"].copy()\n",
    "x_train,x_test,y_train,y_test= train_test_split(X,Y,test_size=0.2,stratify=Y,random_state=0)"
   ]
  },
  {
   "cell_type": "code",
   "execution_count": 42,
   "metadata": {},
   "outputs": [
    {
     "data": {
      "text/plain": [
       "((40000,), (10000,))"
      ]
     },
     "execution_count": 42,
     "metadata": {},
     "output_type": "execute_result"
    }
   ],
   "source": [
    "x_train.shape,x_test.shape"
   ]
  },
  {
   "cell_type": "code",
   "execution_count": 43,
   "metadata": {},
   "outputs": [
    {
     "name": "stdout",
     "output_type": "stream",
     "text": [
      "* * * * * * * * * * "
     ]
    }
   ],
   "source": [
    "\n",
    "for i in range(x_train.shape[0]):\n",
    "    if i %4000==0:\n",
    "        print(\"*\",end=\" \")\n",
    "    x_train.iloc[i]=Clean_review(x_train.iloc[i])\n",
    "    "
   ]
  },
  {
   "cell_type": "code",
   "execution_count": 55,
   "metadata": {
    "scrolled": false
   },
   "outputs": [
    {
     "name": "stderr",
     "output_type": "stream",
     "text": [
      "\n",
      "\n",
      "  0%|                                                                                        | 0/40000 [00:00<?, ?it/s]\u001b[A\u001b[A\n",
      "\n",
      "  8%|██████                                                                    | 3284/40000 [00:00<00:01, 32836.51it/s]\u001b[A\u001b[A\n",
      "\n",
      " 16%|████████████                                                              | 6502/40000 [00:00<00:01, 32547.48it/s]\u001b[A\u001b[A\n",
      "\n",
      " 23%|████████████████▉                                                         | 9179/40000 [00:00<00:01, 30491.62it/s]\u001b[A\u001b[A\n",
      "\n",
      " 28%|████████████████████▌                                                    | 11265/40000 [00:00<00:01, 26706.84it/s]\u001b[A\u001b[A\n",
      "\n",
      " 34%|████████████████████████▌                                                | 13485/40000 [00:00<00:01, 25111.32it/s]\u001b[A\u001b[A\n",
      "\n",
      " 39%|████████████████████████████▌                                            | 15682/40000 [00:00<00:01, 24020.63it/s]\u001b[A\u001b[A\n",
      "\n",
      " 47%|██████████████████████████████████▍                                      | 18876/40000 [00:00<00:00, 25905.06it/s]\u001b[A\u001b[A\n",
      "\n",
      " 56%|████████████████████████████████████████▋                                | 22303/40000 [00:00<00:00, 27902.00it/s]\u001b[A\u001b[A\n",
      "\n",
      " 67%|█████████████████████████████████████████████████                        | 26866/40000 [00:00<00:00, 30598.61it/s]\u001b[A\u001b[A\n",
      "\n",
      " 77%|████████████████████████████████████████████████████████                 | 30751/40000 [00:01<00:00, 31980.11it/s]\u001b[A\u001b[A\n",
      "\n",
      " 87%|███████████████████████████████████████████████████████████████▏         | 34603/40000 [00:01<00:00, 33572.89it/s]\u001b[A\u001b[A\n",
      "\n",
      "100%|█████████████████████████████████████████████████████████████████████████| 40000/40000 [00:01<00:00, 31274.13it/s]\u001b[A\u001b[A\n"
     ]
    },
    {
     "name": "stdout",
     "output_type": "stream",
     "text": [
      "62516\n",
      "626\n"
     ]
    }
   ],
   "source": [
    "#for initializing tokenizer of keras and  padding\n",
    "\n",
    "unique_words = set()\n",
    "len_max = 0\n",
    "\n",
    "for sent in tqdm([x_train.iloc[i].split() for i in range(x_train.shape[0])]):\n",
    "    \n",
    "    unique_words.update(sent)\n",
    "    \n",
    "    if(len_max<len(set(sent))):\n",
    "        len_max = len(set(sent))\n",
    "        \n",
    "#length of the list of unique_words gives the no of unique words\n",
    "print(len(list(unique_words)))\n",
    "print(len_max)"
   ]
  },
  {
   "cell_type": "code",
   "execution_count": 56,
   "metadata": {},
   "outputs": [],
   "source": [
    "max_words=len(list(unique_words))\n",
    "max_len = len_max\n",
    "tok = Tokenizer(num_words=max_words)\n",
    "tok.fit_on_texts(x_train)\n",
    "sequences = tok.texts_to_sequences(x_train)\n",
    "sequences_matrix =pad_sequences(sequences,maxlen=max_len)"
   ]
  },
  {
   "cell_type": "markdown",
   "metadata": {},
   "source": [
    "# Model"
   ]
  },
  {
   "cell_type": "code",
   "execution_count": 111,
   "metadata": {},
   "outputs": [
    {
     "name": "stdout",
     "output_type": "stream",
     "text": [
      "Model: \"sequential_6\"\n",
      "_________________________________________________________________\n",
      "Layer (type)                 Output Shape              Param #   \n",
      "=================================================================\n",
      "embedding_6 (Embedding)      (None, 626, 50)           3125800   \n",
      "_________________________________________________________________\n",
      "lstm_9 (LSTM)                (None, 626, 128)          91648     \n",
      "_________________________________________________________________\n",
      "lstm_10 (LSTM)               (None, 64)                49408     \n",
      "_________________________________________________________________\n",
      "dense_5 (Dense)              (None, 100)               6500      \n",
      "_________________________________________________________________\n",
      "dropout_6 (Dropout)          (None, 100)               0         \n",
      "_________________________________________________________________\n",
      "dense_6 (Dense)              (None, 2)                 202       \n",
      "=================================================================\n",
      "Total params: 3,273,558\n",
      "Trainable params: 3,273,558\n",
      "Non-trainable params: 0\n",
      "_________________________________________________________________\n"
     ]
    }
   ],
   "source": [
    "from keras.optimizers import Adam\n",
    "model=Sequential()\n",
    "model.add(Embedding(len(list(unique_words)),50,input_length=len_max))\n",
    "model.add(LSTM(128,dropout=0.5, recurrent_dropout=0.5,return_sequences=True))\n",
    "model.add(LSTM(64,dropout=0.5, recurrent_dropout=0.5,return_sequences=False))\n",
    "model.add(Dense(100,activation='relu'))\n",
    "model.add(Dropout(0.5))\n",
    "model.add(Dense(2,activation='softmax'))\n",
    "model.compile(loss='categorical_crossentropy',optimizer=Adam(lr=0.005),metrics=['accuracy'])\n",
    "model.summary()"
   ]
  },
  {
   "cell_type": "code",
   "execution_count": 112,
   "metadata": {},
   "outputs": [],
   "source": [
    "Le= LabelEncoder().fit(y_train)\n",
    "y_train_cat=to_categorical(Le.transform(y_train))\n",
    "y_test_cat=to_categorical(Le.transform(y_test))"
   ]
  },
  {
   "cell_type": "code",
   "execution_count": 114,
   "metadata": {},
   "outputs": [
    {
     "name": "stdout",
     "output_type": "stream",
     "text": [
      "Epoch 1/10\n",
      "125/125 [==============================] - 2804s 22s/step - loss: 0.4780 - accuracy: 0.7814 - val_loss: 0.3302 - val_accuracy: 0.8559\n"
     ]
    }
   ],
   "source": [
    "history=model.fit(sequences_matrix,y_train_cat,batch_size=256,epochs=10,\n",
    "          validation_split=0.2,callbacks=[EarlyStopping(monitor='val_loss',min_delta=0.0001)])"
   ]
  },
  {
   "cell_type": "code",
   "execution_count": 116,
   "metadata": {},
   "outputs": [
    {
     "data": {
      "text/plain": [
       "['loss', 'accuracy']"
      ]
     },
     "execution_count": 116,
     "metadata": {},
     "output_type": "execute_result"
    }
   ],
   "source": [
    "model.metrics_names"
   ]
  },
  {
   "cell_type": "markdown",
   "metadata": {},
   "source": [
    "# Preparing Test data"
   ]
  },
  {
   "cell_type": "code",
   "execution_count": 117,
   "metadata": {},
   "outputs": [],
   "source": [
    "def Processing(data):\n",
    "    for i in range(data.shape[0]):\n",
    "        if i%2000==0:\n",
    "            print(\"*\",end=\" \")\n",
    "        data.iloc[i]=Clean_review(data.iloc[i])\n",
    "    test_sequences = tok.texts_to_sequences(data)\n",
    "    test_sequences_matrix = pad_sequences(test_sequences,maxlen=max_len)\n",
    "    \n",
    "    return test_sequences_matrix"
   ]
  },
  {
   "cell_type": "code",
   "execution_count": 118,
   "metadata": {},
   "outputs": [
    {
     "name": "stdout",
     "output_type": "stream",
     "text": [
      "* * * * * "
     ]
    }
   ],
   "source": [
    "test_sequences_matrix=Processing(x_test)"
   ]
  },
  {
   "cell_type": "code",
   "execution_count": 119,
   "metadata": {
    "scrolled": true
   },
   "outputs": [
    {
     "name": "stdout",
     "output_type": "stream",
     "text": [
      "313/313 [==============================] - 138s 439ms/step - loss: 0.3258 - accuracy: 0.8579\n"
     ]
    },
    {
     "data": {
      "text/plain": [
       "[0.3258226215839386, 0.8579000234603882]"
      ]
     },
     "execution_count": 119,
     "metadata": {},
     "output_type": "execute_result"
    }
   ],
   "source": [
    "model.evaluate(test_sequences_matrix,y_test_cat)"
   ]
  },
  {
   "cell_type": "markdown",
   "metadata": {},
   "source": [
    "## Accuracy"
   ]
  },
  {
   "cell_type": "code",
   "execution_count": 120,
   "metadata": {},
   "outputs": [],
   "source": [
    "y_predict=model.predict(test_sequences_matrix)\n",
    "y_test_=np.argmax(y_test_cat,axis=1)\n",
    "y_predict=np.argmax(y_predict,axis=1)"
   ]
  },
  {
   "cell_type": "code",
   "execution_count": 121,
   "metadata": {},
   "outputs": [],
   "source": [
    "acc=np.sum(y_predict==y_test_)/y_test_.shape[0]"
   ]
  },
  {
   "cell_type": "code",
   "execution_count": 122,
   "metadata": {},
   "outputs": [
    {
     "data": {
      "text/plain": [
       "0.8579"
      ]
     },
     "execution_count": 122,
     "metadata": {},
     "output_type": "execute_result"
    }
   ],
   "source": [
    "acc"
   ]
  },
  {
   "cell_type": "markdown",
   "metadata": {},
   "source": [
    "## Confusion matrix"
   ]
  },
  {
   "cell_type": "code",
   "execution_count": 123,
   "metadata": {},
   "outputs": [],
   "source": [
    "from sklearn.metrics import confusion_matrix"
   ]
  },
  {
   "cell_type": "code",
   "execution_count": 124,
   "metadata": {
    "scrolled": true
   },
   "outputs": [
    {
     "data": {
      "text/plain": [
       "array([[4353,  647],\n",
       "       [ 774, 4226]], dtype=int64)"
      ]
     },
     "execution_count": 124,
     "metadata": {},
     "output_type": "execute_result"
    }
   ],
   "source": [
    "cm=confusion_matrix(y_test_,y_predict)\n",
    "cm"
   ]
  },
  {
   "cell_type": "code",
   "execution_count": 125,
   "metadata": {},
   "outputs": [],
   "source": [
    "import seaborn as sns"
   ]
  },
  {
   "cell_type": "code",
   "execution_count": 126,
   "metadata": {},
   "outputs": [
    {
     "data": {
      "text/plain": [
       "<matplotlib.axes._subplots.AxesSubplot at 0x271a0ff4220>"
      ]
     },
     "execution_count": 126,
     "metadata": {},
     "output_type": "execute_result"
    },
    {
     "data": {
      "image/png": "[encoded data removed]",
      "text/plain": [
       "<Figure size 432x288 with 2 Axes>"
      ]
     },
     "metadata": {
      "needs_background": "light"
     },
     "output_type": "display_data"
    }
   ],
   "source": [
    "sns.heatmap(cm,annot=True)# we see greater diagonal values give better model"
   ]
  },
  {
   "cell_type": "code",
   "execution_count": 127,
   "metadata": {},
   "outputs": [
    {
     "data": {
      "text/plain": [
       "{0: 'negative', 1: 'positive'}"
      ]
     },
     "execution_count": 127,
     "metadata": {},
     "output_type": "execute_result"
    }
   ],
   "source": [
    "le_name_mapping = dict(zip( Le.transform(Le.classes_),Le.classes_))\n",
    "le_name_mapping"
   ]
  },
  {
   "cell_type": "code",
   "execution_count": 132,
   "metadata": {},
   "outputs": [
    {
     "name": "stdout",
     "output_type": "stream",
     "text": [
      "* positive\n",
      "negative\n",
      "positive\n",
      "positive\n",
      "positive\n",
      "negative\n",
      "negative\n"
     ]
    }
   ],
   "source": [
    "# Testing\n",
    "y_pred=model.predict(Processing(pd.Series([\"very good movie\",\"bad movie\",\"super movie\",\"loved it\",\n",
    "                                           \"liked it\",\"hated it\",\"not good\",])))\n",
    "y_pred=np.argmax(y_pred,axis=1)\n",
    "for i in range(y_pred.shape[0]):\n",
    "    print(le_name_mapping[y_pred[i]])"
   ]
  },
  {
   "cell_type": "code",
   "execution_count": null,
   "metadata": {},
   "outputs": [],
   "source": []
  }
 ],
 "metadata": {
  "kernelspec": {
   "display_name": "Python 3",
   "language": "python",
   "name": "python3"
  },
  "language_info": {
   "codemirror_mode": {
    "name": "ipython",
    "version": 3
   },
   "file_extension": ".py",
   "mimetype": "text/x-python",
   "name": "python",
   "nbconvert_exporter": "python",
   "pygments_lexer": "ipython3",
   "version": "3.8.3"
  }
 },
 "nbformat": 4,
 "nbformat_minor": 4
}
